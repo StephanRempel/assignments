{
 "cells": [
  {
   "cell_type": "markdown",
   "id": "b60cf422-c288-44fc-b729-2b623bcb270c",
   "metadata": {},
   "source": [
    "# Chapter 1"
   ]
  },
  {
   "cell_type": "markdown",
   "id": "0a7234da-7519-4517-9173-523d7168569e",
   "metadata": {},
   "source": [
    "Some text here"
   ]
  },
  {
   "cell_type": "code",
   "execution_count": null,
   "id": "6ea9df3e-64ba-427a-8278-e2aa9dcd93d9",
   "metadata": {},
   "outputs": [
    {
     "name": "stdout",
     "output_type": "stream",
     "text": [
      "13\n"
     ]
    }
   ],
   "source": [
    "x = 13\n",
    "print(x)"
   ]
  },
  {
   "cell_type": "markdown",
   "id": "acc4ee81",
   "metadata": {},
   "source": [
    "## Subchapter 1"
   ]
  },
  {
   "cell_type": "markdown",
   "id": "55cb616a",
   "metadata": {},
   "source": [
    "Testing generators\n"
   ]
  },
  {
   "cell_type": "code",
   "execution_count": null,
   "id": "a077494f",
   "metadata": {},
   "outputs": [],
   "source": [
    "g = (x**2 for x in range( 7))"
   ]
  },
  {
   "cell_type": "code",
   "execution_count": null,
   "id": "ebfdfa35",
   "metadata": {},
   "outputs": [
    {
     "name": "stdout",
     "output_type": "stream",
     "text": [
      "[0, 1, 4, 9, 16, 25, 36]\n"
     ]
    }
   ],
   "source": [
    "print(list(g))"
   ]
  },
  {
   "cell_type": "code",
   "execution_count": null,
   "id": "1848d938",
   "metadata": {},
   "outputs": [],
   "source": []
  }
 ],
 "metadata": {
  "kernelspec": {
   "display_name": "Python 3",
   "language": "python",
   "name": "python3"
  }
 },
 "nbformat": 4,
 "nbformat_minor": 5
}
