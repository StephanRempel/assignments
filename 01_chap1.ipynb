{
 "cells": [
  {
   "cell_type": "markdown",
   "id": "b60cf422-c288-44fc-b729-2b623bcb270c",
   "metadata": {},
   "source": [
    "# Chapter 1"
   ]
  },
  {
   "cell_type": "markdown",
   "id": "0a7234da-7519-4517-9173-523d7168569e",
   "metadata": {},
   "source": [
    "Some text here"
   ]
  },
  {
   "cell_type": "code",
   "execution_count": null,
   "id": "6ea9df3e-64ba-427a-8278-e2aa9dcd93d9",
   "metadata": {},
   "outputs": [
    {
     "name": "stdout",
     "output_type": "stream",
     "text": [
      "13\n"
     ]
    }
   ],
   "source": [
    "x = 13\n",
    "print(x)"
   ]
  },
  {
   "cell_type": "code",
   "execution_count": null,
   "id": "fccb2d8b-40fc-4004-9bb5-2857519fb934",
   "metadata": {},
   "outputs": [],
   "source": []
  }
 ],
 "metadata": {
  "kernelspec": {
   "display_name": "Python (nbdev)",
   "language": "python",
   "name": "nbdev"
  }
 },
 "nbformat": 4,
 "nbformat_minor": 5
}
